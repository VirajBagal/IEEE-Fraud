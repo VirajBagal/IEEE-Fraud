{
 "cells": [
  {
   "cell_type": "markdown",
   "metadata": {},
   "source": [
    "<h1><center><font size=\"6\">IEEE FRAUD DETECTION</font></center></h1>\n",
    "\n",
    "\n",
    "\n",
    "\n",
    "<img src=\"https://gdprinformer.com/wp-content/uploads/2017/09/fraud-laptop.jpg\" width=\"800\"></img>\n",
    "\n",
    "\n",
    "\n",
    "<br>"
   ]
  },
  {
   "cell_type": "markdown",
   "metadata": {},
   "source": [
    "# <a id='0'>Content</a>\n",
    "\n",
    "- <a href='#1'>Importing Libraries and Modules</a>  \n",
    "- <a href='#2'>Distribution of features across Train and Test</a>\n",
    " - <a href='#21'>Card Features</a>   \n",
    "  - <a href='#22'>Addr,Dist and EmailDomain</a>  \n",
    "  - <a href='#23'>C Features</a> \n",
    "  - <a href='#24'>D Features</a> \n",
    "  - <a href='#25'>M features</a> \n",
    "  - <a href='#26'>V Features</a>   \n",
    "  - <a href='#27'>ID features</a> \n",
    "- <a href='#3'>Dropping Columns</a>   \n",
    "- <a href='#4'>Reducing Memory Size</a>    \n",
    "- <a href='#5'>Feature Engineering</a>     \n",
    "- <a href='#6'>Model Development</a>\n",
    "- <a href='#7'>Feature Importance</a>\n",
    "\n",
    "\n",
    "**Please upvote if you like the kernel . Happy Kaggling and all the best for the competition**"
   ]
  },
  {
   "cell_type": "markdown",
   "metadata": {},
   "source": [
    "# <a id='1'>Importing Libraries and Modules</a> "
   ]
  },
  {
   "cell_type": "code",
   "execution_count": 1,
   "metadata": {
    "_cell_guid": "b1076dfc-b9ad-4769-8c92-a6c4dae69d19",
    "_uuid": "8f2839f25d086af736a60e9eeb907d3b93b6e0e5"
   },
   "outputs": [
    {
     "name": "stdout",
     "output_type": "stream",
     "text": [
      "['train_identity.csv', 'train_transaction.csv', 'test_transaction.csv', 'test_identity.csv', 'sample_submission.csv']\n"
     ]
    }
   ],
   "source": [
    "# This Python 3 environment comes with many helpful analytics libraries installed\n",
    "# It is defined by the kaggle/python docker image: https://github.com/kaggle/docker-python\n",
    "# For example, here's several helpful packages to load in \n",
    "\n",
    "import numpy as np # linear algebra\n",
    "import pandas as pd # data processing, CSV file I/O (e.g. pd.read_csv)\n",
    "\n",
    "# Input data files are available in the \"../input/\" directory.\n",
    "# For example, running this (by clicking run or pressing Shift+Enter) will list the files in the input directory\n",
    "import seaborn as sns\n",
    "import matplotlib.pyplot as plt\n",
    "%matplotlib inline\n",
    "from sklearn.model_selection import StratifiedKFold\n",
    "from xgboost import XGBClassifier\n",
    "import lightgbm as lgb\n",
    "from sklearn.metrics import roc_auc_score\n",
    "from hyperopt import tpe,hp,Trials\n",
    "from hyperopt.fmin import fmin\n",
    "import gc\n",
    "import os\n",
    "print(os.listdir(\"../input\"))\n",
    "seed=5\n",
    "# Any results you write to the current directory are saved as output."
   ]
  },
  {
   "cell_type": "code",
   "execution_count": 2,
   "metadata": {
    "_cell_guid": "79c7e3d0-c299-4dcb-8224-4455121ee9b0",
    "_uuid": "d629ff2d2480ee46fbb7e2d37f6b5fab8052498a"
   },
   "outputs": [],
   "source": [
    "train_identity=pd.read_csv('../input/train_identity.csv')\n",
    "test_identity=pd.read_csv('../input/test_identity.csv')\n",
    "train_transaction=pd.read_csv('../input/train_transaction.csv')\n",
    "test_transaction=pd.read_csv('../input/test_transaction.csv')"
   ]
  },
  {
   "cell_type": "code",
   "execution_count": 3,
   "metadata": {},
   "outputs": [],
   "source": [
    "train=pd.merge(train_transaction,train_identity,how='left',on='TransactionID')\n",
    "test=pd.merge(test_transaction,test_identity,how='left',on='TransactionID')"
   ]
  },
  {
   "cell_type": "code",
   "execution_count": 4,
   "metadata": {},
   "outputs": [],
   "source": [
    "del train_identity,test_identity,train_transaction,test_transaction"
   ]
  },
  {
   "cell_type": "code",
   "execution_count": 5,
   "metadata": {},
   "outputs": [
    {
     "name": "stdout",
     "output_type": "stream",
     "text": [
      "<class 'pandas.core.frame.DataFrame'>\n",
      "Int64Index: 590540 entries, 0 to 590539\n",
      "Columns: 434 entries, TransactionID to DeviceInfo\n",
      "dtypes: float64(399), int64(4), object(31)\n",
      "memory usage: 1.9+ GB\n"
     ]
    }
   ],
   "source": [
    "train.info()"
   ]
  },
  {
   "cell_type": "code",
   "execution_count": 6,
   "metadata": {},
   "outputs": [],
   "source": [
    "# many_null_cols = [col for col in train.columns if train[col].isnull().sum() / train.shape[0] > 0.9]\n",
    "# many_null_cols_test = [col for col in test.columns if test[col].isnull().sum() / test.shape[0] > 0.9]"
   ]
  },
  {
   "cell_type": "code",
   "execution_count": 7,
   "metadata": {},
   "outputs": [],
   "source": [
    "# big_top_value_cols = [col for col in train.columns if train[col].value_counts(dropna=False, normalize=True).values[0] > 0.9]\n",
    "# big_top_value_cols_test = [col for col in test.columns if test[col].value_counts(dropna=False, normalize=True).values[0] > 0.9]"
   ]
  },
  {
   "cell_type": "code",
   "execution_count": 8,
   "metadata": {},
   "outputs": [],
   "source": [
    "# one_value_cols = [col for col in train.columns if train[col].nunique() <= 1]\n",
    "# one_value_cols_test = [col for col in test.columns if test[col].nunique() <= 1]"
   ]
  },
  {
   "cell_type": "code",
   "execution_count": 9,
   "metadata": {},
   "outputs": [],
   "source": [
    "# cols_to_drop = list(set(many_null_cols + many_null_cols_test + big_top_value_cols + big_top_value_cols_test + one_value_cols+ one_value_cols_test))\n",
    "# len(cols_to_drop)"
   ]
  },
  {
   "cell_type": "code",
   "execution_count": 10,
   "metadata": {},
   "outputs": [],
   "source": [
    "drop_cols=['dist2','C8','C9','C10','D6','D12','V27','V28','V45','V70','V71','V77','V78','V86','V87','V89','V91','V92','V95','V96','V97',\n",
    "          'V101','V102','V103','V107','V126','V127','V128','V130','V131','V132','V133','V134','V135','V136','V137','V143','V145','V150',\n",
    "          'V159','V160','V164','V165','V166','V167','V168','V171','V176','V177','V178','V179','V181','V182','V183','V190','V199','V202',\n",
    "          'V203','V204','V207','V211','V212','V213','V214','V215','V216','V221','V226','V227','V228','V230','V234','V240','V241','V245',\n",
    "          'V246','V255','V256','V257','V258','V259','V261','V263','V264','V265','V270','V271','V272','V273','V274','V275','V276','V277',\n",
    "          'V278','V279','V280','V291','V292','V293','V294','V295','V297','V306','V307','V308','V310','V312','V316','V317','V318','V319',\n",
    "          'V320','V321','V322','V323','V324','V331','V332','V333','V338','V339','TransactionDT','TransactionID']\n",
    "\n"
   ]
  },
  {
   "cell_type": "code",
   "execution_count": 11,
   "metadata": {},
   "outputs": [],
   "source": [
    "# remnant_cols=list(set(drop_cols)-set(drop_cols).intersection(set(cols_to_drop)))"
   ]
  },
  {
   "cell_type": "code",
   "execution_count": 12,
   "metadata": {},
   "outputs": [],
   "source": [
    "train=train.drop(drop_cols,1)\n",
    "test=test.drop(drop_cols,1)\n",
    "train['TransactionAmt']=np.log(train['TransactionAmt'])\n",
    "test['TransactionAmt']=np.log(test['TransactionAmt'])"
   ]
  },
  {
   "cell_type": "code",
   "execution_count": 13,
   "metadata": {},
   "outputs": [],
   "source": [
    "# most_null_values=[col for col in train.columns if (train[col].isna().sum()/train.shape[0])>0.9]\n",
    "# len(most_null_values)"
   ]
  },
  {
   "cell_type": "code",
   "execution_count": 14,
   "metadata": {},
   "outputs": [],
   "source": [
    "# dominant_unique_values=[col for col in train.columns if (train[col].value_counts().values[0]/train.shape[0])>0.9]\n",
    "# len(dominant_unique_values)"
   ]
  },
  {
   "cell_type": "code",
   "execution_count": 15,
   "metadata": {},
   "outputs": [],
   "source": [
    "# dominant_unique_values.remove('isFraud')"
   ]
  },
  {
   "cell_type": "code",
   "execution_count": 16,
   "metadata": {},
   "outputs": [],
   "source": [
    "# cols_to_drop=list(set(most_null_values+dominant_unique_values+['TransactionID','TransactionDT']))\n",
    "# train=train.drop(cols_to_drop,axis=1)\n",
    "# test=test.drop(cols_to_drop,axis=1)"
   ]
  },
  {
   "cell_type": "markdown",
   "metadata": {},
   "source": [
    "# <a id='3'>Dropping Columns</a> "
   ]
  },
  {
   "cell_type": "code",
   "execution_count": 17,
   "metadata": {},
   "outputs": [],
   "source": [
    "\n",
    "# drop_col = ['TransactionDT','TransactionID','V300', 'V309', 'V111', 'C3', 'V124', 'V106', 'V125', 'V315', 'V134', 'V102', 'V123', \n",
    "#             'V316', 'V113', 'V136', 'V305', 'V110', 'V299', 'V289', 'V286', 'V318', 'V103', 'V304', 'V116', 'V298', \n",
    "#             'V284', 'V293', 'V137', 'V295', 'V301', 'V104', 'V311', 'V115', 'V109', 'V119', 'V321', 'V114', 'V133', \n",
    "#             'V122', 'V319', 'V105', 'V112', 'V118', 'V117', 'V121', 'V108', 'V135', 'V320', 'V303', 'V297', 'V120']\n",
    "\n",
    "# drop_col=['TransactionDT','TransactionID']\n",
    "# train=train.drop(drop_col,1)\n",
    "# test=test.drop(drop_col,1)"
   ]
  },
  {
   "cell_type": "markdown",
   "metadata": {},
   "source": [
    "# <a id='4'>Reducing memory size</a> "
   ]
  },
  {
   "cell_type": "code",
   "execution_count": 18,
   "metadata": {},
   "outputs": [],
   "source": [
    "# %%time\n",
    "# # From kernel https://www.kaggle.com/gemartin/load-data-reduce-memory-usage\n",
    "# # WARNING! THIS CAN DAMAGE THE DATA \n",
    "# def reduce_mem_usage(df):\n",
    "#     \"\"\" iterate through all the columns of a dataframe and modify the data type\n",
    "#         to reduce memory usage.        \n",
    "#     \"\"\"\n",
    "#     start_mem = df.memory_usage().sum() / 1024**2\n",
    "#     print('Memory usage of dataframe is {:.2f} MB'.format(start_mem))\n",
    "    \n",
    "#     for col in df.columns:\n",
    "#         col_type = df[col].dtype\n",
    "        \n",
    "#         if col_type != object:\n",
    "#             c_min = df[col].min()\n",
    "#             c_max = df[col].max()\n",
    "#             if str(col_type)[:3] == 'int':\n",
    "#                 if c_min > np.iinfo(np.int8).min and c_max < np.iinfo(np.int8).max:\n",
    "#                     df[col] = df[col].astype(np.int8)\n",
    "#                 elif c_min > np.iinfo(np.int16).min and c_max < np.iinfo(np.int16).max:\n",
    "#                     df[col] = df[col].astype(np.int16)\n",
    "#                 elif c_min > np.iinfo(np.int32).min and c_max < np.iinfo(np.int32).max:\n",
    "#                     df[col] = df[col].astype(np.int32)\n",
    "#                 elif c_min > np.iinfo(np.int64).min and c_max < np.iinfo(np.int64).max:\n",
    "#                     df[col] = df[col].astype(np.int64)  \n",
    "#             else:\n",
    "#                 if c_min > np.finfo(np.float16).min and c_max < np.finfo(np.float16).max:\n",
    "#                     df[col] = df[col].astype(np.float16)\n",
    "#                 elif c_min > np.finfo(np.float32).min and c_max < np.finfo(np.float32).max:\n",
    "#                     df[col] = df[col].astype(np.float32)\n",
    "#                 else:\n",
    "#                     df[col] = df[col].astype(np.float64)\n",
    "#         else:\n",
    "#             df[col] = df[col].astype('category')\n",
    "\n",
    "#     end_mem = df.memory_usage().sum() / 1024**2\n",
    "#     print('Memory usage after optimization is: {:.2f} MB'.format(end_mem))\n",
    "#     print('Decreased by {:.1f}%'.format(100 * (start_mem - end_mem) / start_mem))\n",
    "    \n",
    "#     return df"
   ]
  },
  {
   "cell_type": "code",
   "execution_count": 19,
   "metadata": {},
   "outputs": [],
   "source": [
    "# train=reduce_mem_usage(train)\n",
    "# test=reduce_mem_usage(test)"
   ]
  },
  {
   "cell_type": "code",
   "execution_count": 20,
   "metadata": {},
   "outputs": [],
   "source": [
    "# obj_cols=[col for col in train.columns if train[col].dtype=='object']\n",
    "# if 'isFraud' in obj_cols:\n",
    "#     obj_cols.remove('isFraud')\n",
    "    \n",
    "# unique_values=sorted([(col,train[col].nunique()+test[col].nunique()) for col in obj_cols],key=lambda x: x[1],reverse=False)"
   ]
  },
  {
   "cell_type": "code",
   "execution_count": 21,
   "metadata": {},
   "outputs": [],
   "source": [
    "# dummy_cols=[col[0] for col in unique_values[:18]]\n",
    "# target=train['isFraud']\n",
    "# train=train.drop('isFraud',1)\n",
    "# ntrain=train.shape[0]\n",
    "# print(train.shape)\n",
    "# merged_data=pd.concat([train,test],axis=0,ignore_index=True)\n",
    "# X=pd.get_dummies(merged_data,columns=dummy_cols)\n",
    "# merged_data.drop(dummy_cols,axis=1,inplace=True)\n",
    "# merged_data=pd.concat([merged_data,X],axis=1)\n",
    "# del X\n",
    "# train=merged_data[:ntrain]\n",
    "# test=merged_data[ntrain:]\n",
    "# print(train.shape)\n",
    "# del merged_data\n",
    "# gc.collect()"
   ]
  },
  {
   "cell_type": "markdown",
   "metadata": {},
   "source": [
    "# <a id='5'>Feature Engineering</a> "
   ]
  },
  {
   "cell_type": "code",
   "execution_count": 22,
   "metadata": {},
   "outputs": [],
   "source": [
    "num_cols=[col for col in train.columns if (('float' in str(train[col].dtype)) or ('int' in str(train[col].dtype)))]\n",
    "num_cols.remove('isFraud')\n",
    "train['mean']=train[num_cols].mean(axis=1)\n",
    "test['mean']=test[num_cols].mean(axis=1)\n",
    "train['std']=train[num_cols].std(axis=1)\n",
    "test['std']=test[num_cols].std(axis=1)\n",
    "train['max']=train[num_cols].max(axis=1)\n",
    "test['max']=test[num_cols].max(axis=1)\n",
    "train['min']=train[num_cols].min(axis=1)\n",
    "test['min']=test[num_cols].min(axis=1)\n",
    "train['median']=train[num_cols].median(axis=1)\n",
    "test['median']=test[num_cols].median(axis=1)\n",
    "train['skew']=train[num_cols].skew(axis=1)\n",
    "test['skew']=test[num_cols].skew(axis=1)\n",
    "train['kurt']=train[num_cols].kurt(axis=1)\n",
    "test['kurt']=test[num_cols].kurt(axis=1)"
   ]
  },
  {
   "cell_type": "markdown",
   "metadata": {},
   "source": [
    "Randomly generating some features. Very illogical I know :P"
   ]
  },
  {
   "cell_type": "code",
   "execution_count": 23,
   "metadata": {},
   "outputs": [],
   "source": [
    "# columns=['TransactionAmt','card1','card2','addr2','dist1','C1','C2','D1','D2','V1','V2',\n",
    "#         'id_01','id_02']\n",
    "# obj_cols=['DeviceInfo','card4','card6','ProductCD','DeviceType']\n",
    "\n",
    "# for col in columns:\n",
    "#     for feat in obj_cols:\n",
    "#         train[f'{col}_mean_group_{feat}']=train[col]/train.groupby(feat)[col].transform('mean')\n",
    "#         test[f'{col}_mean_group_{feat}']=test[col]/test.groupby(feat)[col].transform('mean')\n",
    "#         train[f'{col}_max_group_{feat}']=train[col]/train.groupby(feat)[col].transform('max')\n",
    "#         test[f'{col}_max_group_{feat}']=test[col]/test.groupby(feat)[col].transform('max')\n",
    "#         train[f'{col}_min_group_{feat}']=train[col]/train.groupby(feat)[col].transform('min')\n",
    "#         test[f'{col}_min_group_{feat}']=test[col]/test.groupby(feat)[col].transform('min')\n",
    "#         train[f'{col}_skew_group_{feat}']=train[col]/train.groupby(feat)[col].transform('skew')\n",
    "#         test[f'{col}_skew_group_{feat}']=test[col]/test.groupby(feat)[col].transform('skew')\n",
    "#         train[f'{col}_skew_group_{feat}']=train[col]/train.groupby(feat)[col].transform('count')\n",
    "#         test[f'{col}_skew_group_{feat}']=test[col]/test.groupby(feat)[col].transform('count')\n",
    "   "
   ]
  },
  {
   "cell_type": "code",
   "execution_count": 24,
   "metadata": {},
   "outputs": [],
   "source": [
    "# def fill_missing(df):\n",
    "#     num_cols=[col for col in df.columns if df[col].dtype=='float64' or df[col].dtype=='int64']\n",
    "#     for col in num_cols:\n",
    "#         df[col]=df[col].fillna(df[col].mean())\n",
    "#     obj_cols=[col for col in df.columns if df[col].dtype=='object']\n",
    "#     for col in obj_cols:\n",
    "#         df[col]=df[col].fillna(df[col].mode()[0])\n",
    "        \n",
    "#     return df"
   ]
  },
  {
   "cell_type": "code",
   "execution_count": 25,
   "metadata": {},
   "outputs": [],
   "source": [
    "# train_df=fill_missing(train_df)\n",
    "# test_df=fill_missing(test_df)"
   ]
  },
  {
   "cell_type": "code",
   "execution_count": 26,
   "metadata": {},
   "outputs": [],
   "source": [
    "train=train.fillna(-999)\n",
    "test=test.fillna(-999)"
   ]
  },
  {
   "cell_type": "code",
   "execution_count": 27,
   "metadata": {},
   "outputs": [],
   "source": [
    "cat_cols = ['id_12', 'id_13', 'id_14', 'id_15', 'id_16', 'id_17', 'id_18', 'id_19', 'id_20', 'id_21', 'id_22', 'id_23', 'id_24', 'id_25', 'id_26', 'id_27', 'id_28', 'id_29',\n",
    "            'id_30', 'id_31', 'id_32', 'id_33', 'id_34', 'id_35', 'id_36', 'id_37', 'id_38', 'DeviceType', 'DeviceInfo', 'ProductCD', 'card4', 'card6', 'M4','P_emaildomain',\n",
    "            'R_emaildomain', 'card1', 'card2', 'card3',  'card5', 'addr1', 'addr2', 'M1', 'M2', 'M3', 'M5', 'M6', 'M7', 'M8', 'M9']"
   ]
  },
  {
   "cell_type": "code",
   "execution_count": 28,
   "metadata": {},
   "outputs": [],
   "source": [
    "from sklearn.preprocessing import LabelEncoder\n",
    "\n",
    "# object_cols=[col for col in train.columns if (('category' in str(train[col].dtype)) or ('object' in str(train[col].dtype)))]\n",
    "le=LabelEncoder()\n",
    "for col in cat_cols:\n",
    "    le.fit(list(train[col].values)+list(test[col].values))\n",
    "    train[col]=le.transform(list(train[col].values))\n",
    "    test[col]=le.transform(list(test[col].values))"
   ]
  },
  {
   "cell_type": "code",
   "execution_count": 29,
   "metadata": {},
   "outputs": [
    {
     "data": {
      "text/plain": [
       "((590540, 318), (506691, 317))"
      ]
     },
     "execution_count": 29,
     "metadata": {},
     "output_type": "execute_result"
    }
   ],
   "source": [
    "train.shape , test.shape"
   ]
  },
  {
   "cell_type": "code",
   "execution_count": 30,
   "metadata": {},
   "outputs": [],
   "source": [
    "target=train['isFraud']\n",
    "train=train.drop('isFraud',1)"
   ]
  },
  {
   "cell_type": "code",
   "execution_count": 31,
   "metadata": {},
   "outputs": [],
   "source": [
    "# from sklearn.model_selection import train_test_split\n",
    "# train_X,val_X,train_y,val_y=train_test_split(train,target,test_size=0.2,random_state=seed,stratify=target)"
   ]
  },
  {
   "cell_type": "code",
   "execution_count": 32,
   "metadata": {},
   "outputs": [],
   "source": [
    "# from xgboost import XGBClassifier\n",
    "# from sklearn.metrics import roc_auc_score\n",
    "\n",
    "\n",
    "# def objective(params):\n",
    "#     params=dict(max_depth=int(params['max_depth']),\n",
    "#                subsample=np.round(params['subsample'],3),\n",
    "#                colsample_bytree=np.round(params['colsample_bytree'],3),\n",
    "#                learning_rate=np.round(params['learning_rate'],3),\n",
    "#                verbosity=0)\n",
    "    \n",
    "#     clf=XGBClassifier(n_estimators=1000,random_state=seed,**params,tree_method='gpu_hist')\n",
    "#     clf.fit(train_X,train_y,eval_set=[(val_X,val_y)],eval_metric='auc',early_stopping_rounds=10)\n",
    "#     val_pred=clf.predict(val_X)\n",
    "#     score=roc_auc_score(val_y,val_pred)\n",
    "#     return score\n",
    "\n",
    "# space={'max_depth':hp.quniform('max_depth',2,10,2),\n",
    "#       'subsample':hp.uniform('subsample',0.1,1),\n",
    "#       'colsample_bytree':hp.uniform('colsample_bytree',0.1,1),\n",
    "#       'learning_rate':hp.uniform('learning_rate',0.01,0.1)}\n",
    "\n",
    "# trial=Trials()\n",
    "# best=fmin(fn=objective,algo=tpe.suggest,space=space,max_evals=100,trials=trial,rstate=np.random.RandomState(seed))\n",
    "\n",
    "    "
   ]
  },
  {
   "cell_type": "code",
   "execution_count": 33,
   "metadata": {},
   "outputs": [],
   "source": [
    "# best['max_depth']=int(best['max_depth'])\n",
    "# print('Best parameters:',best)"
   ]
  },
  {
   "cell_type": "code",
   "execution_count": 34,
   "metadata": {},
   "outputs": [],
   "source": [
    "# del train_X,val_X,train_y,val_y\n",
    "# gc.collect()"
   ]
  },
  {
   "cell_type": "code",
   "execution_count": 35,
   "metadata": {},
   "outputs": [],
   "source": [
    "# TID=[t['tid'] for t in trial.trials]\n",
    "# Loss=[t['result']['loss'] for t in trial.trials]\n",
    "# maxd=[t['misc']['vals']['max_depth'][0] for t in trial.trials]\n",
    "# lr=[t['misc']['vals']['learning_rate'][0] for t in trial.trials]\n",
    "# sub=[t['misc']['vals']['subsample'][0] for t in trial.trials]\n",
    "# col_samp=[t['misc']['vals']['colsample_bytree'][0] for t in trial.trials]\n",
    "\n",
    "\n",
    "# hyperopt_xgb=pd.DataFrame({'tid':TID,'loss':Loss,\n",
    "#                           'max_depth':maxd,'learning_rate':lr,\n",
    "#                           'subsample':sub, 'colsample_bytree':col_samp})"
   ]
  },
  {
   "cell_type": "code",
   "execution_count": 36,
   "metadata": {},
   "outputs": [],
   "source": [
    "# plt.subplots(3,2,figsize=(10,10))\n",
    "# plt.subplot(3,2,1)\n",
    "# sns.scatterplot(x='tid',y='max_depth',data=hyperopt_xgb)\n",
    "# plt.subplot(3,2,2)\n",
    "# sns.scatterplot(x='tid',y='loss',data=hyperopt_xgb)\n",
    "# plt.subplot(3,2,3)\n",
    "# sns.scatterplot(x='tid',y='learning_rate',data=hyperopt_xgb)\n",
    "# plt.subplot(3,2,4)\n",
    "# sns.scatterplot(x='tid',y='subsample',data=hyperopt_xgb)\n",
    "# plt.subplot(3,2,5)\n",
    "# sns.scatterplot(x='tid',y='colsample_bytree',data=hyperopt_xgb)\n",
    "# plt.subplot(3,2,6)\n",
    "# sns.scatterplot(x='tid',y='loss',data=hyperopt_xgb)\n",
    "\n",
    "# plt.tight_layout()"
   ]
  },
  {
   "cell_type": "markdown",
   "metadata": {},
   "source": [
    "# <a id='6'>Model Development and Feature Importance</a> "
   ]
  },
  {
   "cell_type": "code",
   "execution_count": 37,
   "metadata": {},
   "outputs": [],
   "source": [
    "from sklearn.model_selection import StratifiedKFold\n",
    "import gc\n",
    "\n",
    "nfolds=10\n",
    "\n",
    "\n",
    "xgb_params=dict(n_estimators=1000,\n",
    "                verbosity=0,\n",
    "                tree_method='gpu_hist',\n",
    "                random_state=seed,\n",
    "               colsample_bytree=0.6,\n",
    "               subsample=0.6,\n",
    "               learning_rate=0.05,\n",
    "               max_depth=12)\n",
    "\n",
    "lgb_params=dict(objective='binary',\n",
    "               num_leaves=62,\n",
    "               seed=seed,\n",
    "               max_depth=9,\n",
    "               pos_bagging_fraction=0.5,\n",
    "               neg_bagging_fraction=1.0,\n",
    "               bagging_freq=5,\n",
    "               feature_fraction=0.9,\n",
    "                metric='auc',\n",
    "               learning_rate=0.05,\n",
    "               verbosity=-1,\n",
    "               device='gpu')\n",
    "\n",
    "\n",
    "skfold=StratifiedKFold(nfolds,random_state=seed)\n",
    "\n",
    "\n",
    "\n",
    "def build_model(params,model='xgb',plot_feature_importance=True):\n",
    "    oof=np.zeros(train.shape[0])\n",
    "    pred=np.zeros(test.shape[0])\n",
    "    scores=[]\n",
    "    feature_importance=pd.DataFrame()\n",
    "    for i,(train_index,val_index) in enumerate(skfold.split(train,target)):\n",
    "        print('Fold :',i+1)\n",
    "\n",
    "        \n",
    "        if model=='xgb':\n",
    "            train_X,val_X=train.iloc[train_index,:],train.iloc[val_index,:]\n",
    "            train_y,val_y=target[train_index],target[val_index]\n",
    "            clf=XGBClassifier(**params)\n",
    "            clf.fit(train_X,train_y,eval_metric='auc',eval_set=[(val_X,val_y)],early_stopping_rounds=10,verbose=20)\n",
    "            val_pred=clf.predict_proba(val_X)[:,1]\n",
    "        \n",
    "        \n",
    "        if model=='lgb':\n",
    "        \n",
    "            train_d=lgb.Dataset(train.iloc[train_index,:].values,label=target[train_index].values)\n",
    "            val_d=lgb.Dataset(train.iloc[val_index,:].values,label=target[val_index].values)\n",
    "            clf=lgb.train(params,train_d,num_boost_round=1000,valid_sets=[val_d],verbose_eval=20,early_stopping_rounds=10)\n",
    "            val_pred=clf.predict(train.iloc[val_index,:].values)\n",
    "        \n",
    "    \n",
    "        oof[val_index]=val_pred\n",
    "        val_score=roc_auc_score(target[val_index],val_pred)\n",
    "        scores.append(val_score)\n",
    "        print(f'Validation score using {model} for fold {i} :'+ str(val_score))\n",
    "        print('-'*100)\n",
    "        \n",
    "        if model=='xgb':\n",
    "            pred+=clf.predict_proba(test)[:,1]/nfolds\n",
    "        if model=='lgb':\n",
    "            pred+=clf.predict(test.values)/nfolds\n",
    "            \n",
    "        if model=='xgb':\n",
    "            del train_X,val_X,train_y,val_y\n",
    "        if model=='lgb':\n",
    "            del train_d,val_d\n",
    "       \n",
    "        gc.collect()\n",
    "        \n",
    "        \n",
    "        fold_importance=pd.DataFrame()\n",
    "        fold_importance['feature']=train.columns\n",
    "        if model=='xgb':\n",
    "            fold_importance['importance']=clf.feature_importances_\n",
    "        if model=='lgb':\n",
    "            fold_importance['importance']=clf.feature_importance()\n",
    "        fold_importance['fold']=i+1\n",
    "        feature_importance=pd.concat([feature_importance,fold_importance],axis=0)\n",
    "            \n",
    "            \n",
    "    print('Mean validation score :',np.mean(scores)) \n",
    "    \n",
    "    if plot_feature_importance:\n",
    "        df=feature_importance[['feature','importance']].groupby('feature').mean().sort_values(by='importance',ascending=False).reset_index()\n",
    "        plt.figure(figsize=(10,10))\n",
    "        sns.barplot(x='importance',y='feature',data=df.iloc[:25,:])\n",
    "        plt.title('Feature Importances')\n",
    "        \n",
    "    return pred"
   ]
  },
  {
   "cell_type": "code",
   "execution_count": 38,
   "metadata": {},
   "outputs": [
    {
     "name": "stdout",
     "output_type": "stream",
     "text": [
      "Fold : 1\n",
      "[0]\tvalidation_0-auc:0.799673\n",
      "Will train until validation_0-auc hasn't improved in 10 rounds.\n",
      "[20]\tvalidation_0-auc:0.862093\n",
      "[40]\tvalidation_0-auc:0.871568\n",
      "[60]\tvalidation_0-auc:0.882773\n",
      "[80]\tvalidation_0-auc:0.895739\n",
      "[100]\tvalidation_0-auc:0.90508\n",
      "[120]\tvalidation_0-auc:0.911333\n",
      "[140]\tvalidation_0-auc:0.914925\n",
      "[160]\tvalidation_0-auc:0.917388\n",
      "[180]\tvalidation_0-auc:0.918217\n",
      "[200]\tvalidation_0-auc:0.919479\n",
      "[220]\tvalidation_0-auc:0.9204\n",
      "Stopping. Best iteration:\n",
      "[217]\tvalidation_0-auc:0.920645\n",
      "\n",
      "Validation score using xgb for fold 0 :0.9206452158304981\n",
      "----------------------------------------------------------------------------------------------------\n",
      "Fold : 2\n",
      "[0]\tvalidation_0-auc:0.810945\n",
      "Will train until validation_0-auc hasn't improved in 10 rounds.\n",
      "[20]\tvalidation_0-auc:0.866192\n",
      "[40]\tvalidation_0-auc:0.878431\n",
      "[60]\tvalidation_0-auc:0.892568\n",
      "[80]\tvalidation_0-auc:0.903953\n",
      "[100]\tvalidation_0-auc:0.912334\n",
      "[120]\tvalidation_0-auc:0.919312\n",
      "[140]\tvalidation_0-auc:0.922327\n",
      "[160]\tvalidation_0-auc:0.92562\n",
      "[180]\tvalidation_0-auc:0.928368\n",
      "[200]\tvalidation_0-auc:0.930294\n",
      "[220]\tvalidation_0-auc:0.931759\n",
      "[240]\tvalidation_0-auc:0.932832\n",
      "[260]\tvalidation_0-auc:0.93384\n",
      "[280]\tvalidation_0-auc:0.934249\n",
      "[300]\tvalidation_0-auc:0.934972\n",
      "[320]\tvalidation_0-auc:0.935439\n",
      "Stopping. Best iteration:\n",
      "[323]\tvalidation_0-auc:0.935554\n",
      "\n",
      "Validation score using xgb for fold 1 :0.9355542992967159\n",
      "----------------------------------------------------------------------------------------------------\n",
      "Fold : 3\n",
      "[0]\tvalidation_0-auc:0.832352\n",
      "Will train until validation_0-auc hasn't improved in 10 rounds.\n",
      "[20]\tvalidation_0-auc:0.876943\n",
      "[40]\tvalidation_0-auc:0.88668\n",
      "[60]\tvalidation_0-auc:0.896058\n",
      "[80]\tvalidation_0-auc:0.902244\n",
      "[100]\tvalidation_0-auc:0.910814\n",
      "[120]\tvalidation_0-auc:0.917685\n",
      "[140]\tvalidation_0-auc:0.921955\n",
      "[160]\tvalidation_0-auc:0.925555\n",
      "[180]\tvalidation_0-auc:0.927728\n",
      "[200]\tvalidation_0-auc:0.929867\n",
      "[220]\tvalidation_0-auc:0.930803\n",
      "[240]\tvalidation_0-auc:0.93232\n",
      "[260]\tvalidation_0-auc:0.933087\n",
      "[280]\tvalidation_0-auc:0.933491\n",
      "Stopping. Best iteration:\n",
      "[281]\tvalidation_0-auc:0.933588\n",
      "\n",
      "Validation score using xgb for fold 2 :0.9335881073461378\n",
      "----------------------------------------------------------------------------------------------------\n",
      "Fold : 4\n",
      "[0]\tvalidation_0-auc:0.846707\n",
      "Will train until validation_0-auc hasn't improved in 10 rounds.\n",
      "[20]\tvalidation_0-auc:0.894119\n",
      "[40]\tvalidation_0-auc:0.907697\n",
      "[60]\tvalidation_0-auc:0.921727\n",
      "[80]\tvalidation_0-auc:0.93188\n",
      "[100]\tvalidation_0-auc:0.938588\n",
      "[120]\tvalidation_0-auc:0.944574\n",
      "[140]\tvalidation_0-auc:0.947743\n",
      "[160]\tvalidation_0-auc:0.950389\n",
      "[180]\tvalidation_0-auc:0.951988\n",
      "[200]\tvalidation_0-auc:0.952818\n",
      "[220]\tvalidation_0-auc:0.953314\n",
      "[240]\tvalidation_0-auc:0.953524\n",
      "Stopping. Best iteration:\n",
      "[246]\tvalidation_0-auc:0.953664\n",
      "\n",
      "Validation score using xgb for fold 3 :0.9536640744869711\n",
      "----------------------------------------------------------------------------------------------------\n",
      "Fold : 5\n",
      "[0]\tvalidation_0-auc:0.849643\n",
      "Will train until validation_0-auc hasn't improved in 10 rounds.\n",
      "[20]\tvalidation_0-auc:0.899141\n",
      "[40]\tvalidation_0-auc:0.911574\n",
      "[60]\tvalidation_0-auc:0.922625\n",
      "[80]\tvalidation_0-auc:0.928241\n",
      "[100]\tvalidation_0-auc:0.934591\n",
      "[120]\tvalidation_0-auc:0.939349\n",
      "[140]\tvalidation_0-auc:0.941438\n",
      "[160]\tvalidation_0-auc:0.94306\n",
      "[180]\tvalidation_0-auc:0.943478\n",
      "[200]\tvalidation_0-auc:0.944487\n",
      "[220]\tvalidation_0-auc:0.945055\n",
      "Stopping. Best iteration:\n",
      "[219]\tvalidation_0-auc:0.945103\n",
      "\n",
      "Validation score using xgb for fold 4 :0.9451031614406891\n",
      "----------------------------------------------------------------------------------------------------\n",
      "Fold : 6\n",
      "[0]\tvalidation_0-auc:0.816158\n",
      "Will train until validation_0-auc hasn't improved in 10 rounds.\n",
      "[20]\tvalidation_0-auc:0.860034\n",
      "[40]\tvalidation_0-auc:0.873542\n",
      "[60]\tvalidation_0-auc:0.886156\n",
      "[80]\tvalidation_0-auc:0.897549\n",
      "[100]\tvalidation_0-auc:0.907021\n",
      "[120]\tvalidation_0-auc:0.912178\n",
      "[140]\tvalidation_0-auc:0.915348\n",
      "[160]\tvalidation_0-auc:0.918398\n",
      "[180]\tvalidation_0-auc:0.920213\n",
      "[200]\tvalidation_0-auc:0.920649\n",
      "[220]\tvalidation_0-auc:0.920914\n",
      "[240]\tvalidation_0-auc:0.921506\n",
      "[260]\tvalidation_0-auc:0.921441\n",
      "Stopping. Best iteration:\n",
      "[254]\tvalidation_0-auc:0.921832\n",
      "\n",
      "Validation score using xgb for fold 5 :0.9218324338046134\n",
      "----------------------------------------------------------------------------------------------------\n",
      "Fold : 7\n",
      "[0]\tvalidation_0-auc:0.85176\n",
      "Will train until validation_0-auc hasn't improved in 10 rounds.\n",
      "[20]\tvalidation_0-auc:0.890336\n",
      "[40]\tvalidation_0-auc:0.904071\n",
      "[60]\tvalidation_0-auc:0.918209\n",
      "[80]\tvalidation_0-auc:0.928616\n",
      "[100]\tvalidation_0-auc:0.936517\n",
      "[120]\tvalidation_0-auc:0.942827\n",
      "[140]\tvalidation_0-auc:0.945648\n",
      "[160]\tvalidation_0-auc:0.947069\n",
      "[180]\tvalidation_0-auc:0.948359\n",
      "[200]\tvalidation_0-auc:0.949616\n",
      "[220]\tvalidation_0-auc:0.950361\n",
      "[240]\tvalidation_0-auc:0.950761\n",
      "Stopping. Best iteration:\n",
      "[238]\tvalidation_0-auc:0.95087\n",
      "\n",
      "Validation score using xgb for fold 6 :0.9508694863904025\n",
      "----------------------------------------------------------------------------------------------------\n",
      "Fold : 8\n",
      "[0]\tvalidation_0-auc:0.846052\n",
      "Will train until validation_0-auc hasn't improved in 10 rounds.\n",
      "[20]\tvalidation_0-auc:0.878682\n",
      "[40]\tvalidation_0-auc:0.894585\n",
      "[60]\tvalidation_0-auc:0.911013\n",
      "[80]\tvalidation_0-auc:0.923929\n",
      "[100]\tvalidation_0-auc:0.93536\n",
      "[120]\tvalidation_0-auc:0.943908\n",
      "[140]\tvalidation_0-auc:0.948483\n",
      "[160]\tvalidation_0-auc:0.950825\n",
      "[180]\tvalidation_0-auc:0.95261\n",
      "[200]\tvalidation_0-auc:0.95419\n",
      "[220]\tvalidation_0-auc:0.955295\n",
      "[240]\tvalidation_0-auc:0.955844\n",
      "[260]\tvalidation_0-auc:0.956472\n",
      "[280]\tvalidation_0-auc:0.956773\n",
      "[300]\tvalidation_0-auc:0.957055\n",
      "[320]\tvalidation_0-auc:0.957201\n",
      "[340]\tvalidation_0-auc:0.957413\n",
      "Stopping. Best iteration:\n",
      "[335]\tvalidation_0-auc:0.957557\n",
      "\n",
      "Validation score using xgb for fold 7 :0.9575567675452414\n",
      "----------------------------------------------------------------------------------------------------\n",
      "Fold : 9\n",
      "[0]\tvalidation_0-auc:0.810586\n",
      "Will train until validation_0-auc hasn't improved in 10 rounds.\n",
      "[20]\tvalidation_0-auc:0.8556\n",
      "[40]\tvalidation_0-auc:0.876134\n",
      "[60]\tvalidation_0-auc:0.895203\n",
      "[80]\tvalidation_0-auc:0.908778\n",
      "[100]\tvalidation_0-auc:0.921813\n",
      "[120]\tvalidation_0-auc:0.929944\n",
      "[140]\tvalidation_0-auc:0.934366\n",
      "[160]\tvalidation_0-auc:0.937565\n",
      "[180]\tvalidation_0-auc:0.939847\n",
      "[200]\tvalidation_0-auc:0.941755\n",
      "[220]\tvalidation_0-auc:0.942181\n",
      "[240]\tvalidation_0-auc:0.943616\n",
      "[260]\tvalidation_0-auc:0.944034\n",
      "[280]\tvalidation_0-auc:0.944745\n",
      "Stopping. Best iteration:\n",
      "[283]\tvalidation_0-auc:0.944823\n",
      "\n",
      "Validation score using xgb for fold 8 :0.944822566230905\n",
      "----------------------------------------------------------------------------------------------------\n",
      "Fold : 10\n",
      "[0]\tvalidation_0-auc:0.84193\n",
      "Will train until validation_0-auc hasn't improved in 10 rounds.\n",
      "[20]\tvalidation_0-auc:0.869958\n",
      "[40]\tvalidation_0-auc:0.885168\n",
      "[60]\tvalidation_0-auc:0.897782\n",
      "[80]\tvalidation_0-auc:0.907151\n",
      "[100]\tvalidation_0-auc:0.918247\n",
      "[120]\tvalidation_0-auc:0.926046\n",
      "[140]\tvalidation_0-auc:0.930103\n",
      "[160]\tvalidation_0-auc:0.932235\n",
      "[180]\tvalidation_0-auc:0.933444\n",
      "Stopping. Best iteration:\n",
      "[183]\tvalidation_0-auc:0.933656\n",
      "\n",
      "Validation score using xgb for fold 9 :0.9336556115080746\n",
      "----------------------------------------------------------------------------------------------------\n",
      "Mean validation score : 0.9397291723880248\n"
     ]
    },
    {
     "data": {
      "image/png": "[encoded data removed]",
      "text/plain": [
       "<Figure size 720x720 with 1 Axes>"
      ]
     },
     "metadata": {
      "needs_background": "light"
     },
     "output_type": "display_data"
    }
   ],
   "source": [
    "pred=build_model(xgb_params,model='xgb')"
   ]
  },
  {
   "cell_type": "code",
   "execution_count": 39,
   "metadata": {},
   "outputs": [],
   "source": [
    "sub=pd.read_csv('../input/sample_submission.csv')\n",
    "sub['isFraud']=pred\n",
    "sub.to_csv('submission.csv',index=False)"
   ]
  }
 ],
 "metadata": {
  "kernelspec": {
   "display_name": "Python 3",
   "language": "python",
   "name": "python3"
  },
  "language_info": {
   "codemirror_mode": {
    "name": "ipython",
    "version": 3
   },
   "file_extension": ".py",
   "mimetype": "text/x-python",
   "name": "python",
   "nbconvert_exporter": "python",
   "pygments_lexer": "ipython3",
   "version": "3.6.6"
  }
 },
 "nbformat": 4,
 "nbformat_minor": 1
}
